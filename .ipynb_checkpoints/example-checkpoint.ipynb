{
 "cells": [
  {
   "cell_type": "code",
   "execution_count": 1,
   "id": "31000a42",
   "metadata": {},
   "outputs": [],
   "source": [
    "import pandas as pd\n",
    "import numpy as np\n",
    "import scGeneRAI\n",
    "import os\n",
    "import networkx as nx"
   ]
  },
  {
   "cell_type": "code",
   "execution_count": 2,
   "id": "51485953",
   "metadata": {},
   "outputs": [],
   "source": [
    "#data = pd.read_csv('../GeneNetworkLRP2/data/epi_top2000.csv')"
   ]
  },
  {
   "cell_type": "code",
   "execution_count": null,
   "id": "cdcd44c4",
   "metadata": {},
   "outputs": [],
   "source": []
  },
  {
   "cell_type": "code",
   "execution_count": 3,
   "id": "ffc75df9",
   "metadata": {},
   "outputs": [],
   "source": [
    "#sel_data = data[['patient_id','cell_type_epi','ID1', 'ID2', 'ID3', 'ID4', 'JUN', 'FOS', 'FOSB', 'HSPA5', 'HSP90B1', 'RPS27', 'RPL10', 'EEF1A1']]"
   ]
  },
  {
   "cell_type": "code",
   "execution_count": 4,
   "id": "bd205e3e",
   "metadata": {},
   "outputs": [],
   "source": [
    "#sel_data = sel_data[(np.isin(sel_data['patient_id'],['p018', 'p019', 'p033', 'p034'])) & (np.isin(sel_data['cell_type_epi'],['Tumor', 'Club', 'AT2']))]"
   ]
  },
  {
   "cell_type": "code",
   "execution_count": 5,
   "id": "1e91c1ba",
   "metadata": {},
   "outputs": [],
   "source": [
    "#sel_data.to_csv('../scGeneRAI/example_data/example_data.csv')"
   ]
  },
  {
   "cell_type": "code",
   "execution_count": 6,
   "id": "e7c57f4b",
   "metadata": {},
   "outputs": [],
   "source": [
    "ex_data = pd.read_csv('../scGeneRAI/example_data/example_data.csv').iloc[:,3:]\n",
    "ex_data_descriptors = pd.read_csv('../scGeneRAI/example_data/example_data.csv').iloc[:,1:3]"
   ]
  },
  {
   "cell_type": "code",
   "execution_count": 7,
   "id": "c576b1c1",
   "metadata": {},
   "outputs": [],
   "source": [
    "means = ex_data.mean(axis=0)\n",
    "sds = ex_data.std(axis=0)\n",
    "\n",
    "ex_data = (ex_data-means)/sds"
   ]
  },
  {
   "cell_type": "code",
   "execution_count": null,
   "id": "79f23ebb",
   "metadata": {},
   "outputs": [],
   "source": []
  },
  {
   "cell_type": "code",
   "execution_count": 8,
   "id": "be0be836",
   "metadata": {},
   "outputs": [
    {
     "data": {
      "text/html": [
       "<div>\n",
       "<style scoped>\n",
       "    .dataframe tbody tr th:only-of-type {\n",
       "        vertical-align: middle;\n",
       "    }\n",
       "\n",
       "    .dataframe tbody tr th {\n",
       "        vertical-align: top;\n",
       "    }\n",
       "\n",
       "    .dataframe thead th {\n",
       "        text-align: right;\n",
       "    }\n",
       "</style>\n",
       "<table border=\"1\" class=\"dataframe\">\n",
       "  <thead>\n",
       "    <tr style=\"text-align: right;\">\n",
       "      <th></th>\n",
       "      <th>patient_id</th>\n",
       "      <th>cell_type_epi</th>\n",
       "    </tr>\n",
       "  </thead>\n",
       "  <tbody>\n",
       "    <tr>\n",
       "      <th>0</th>\n",
       "      <td>p018</td>\n",
       "      <td>Ciliated</td>\n",
       "    </tr>\n",
       "    <tr>\n",
       "      <th>1</th>\n",
       "      <td>p018</td>\n",
       "      <td>Ciliated</td>\n",
       "    </tr>\n",
       "    <tr>\n",
       "      <th>2</th>\n",
       "      <td>p018</td>\n",
       "      <td>Tumor</td>\n",
       "    </tr>\n",
       "    <tr>\n",
       "      <th>3</th>\n",
       "      <td>p018</td>\n",
       "      <td>AT1</td>\n",
       "    </tr>\n",
       "    <tr>\n",
       "      <th>4</th>\n",
       "      <td>p018</td>\n",
       "      <td>Tumor</td>\n",
       "    </tr>\n",
       "    <tr>\n",
       "      <th>...</th>\n",
       "      <td>...</td>\n",
       "      <td>...</td>\n",
       "    </tr>\n",
       "    <tr>\n",
       "      <th>18109</th>\n",
       "      <td>p034</td>\n",
       "      <td>Tumor</td>\n",
       "    </tr>\n",
       "    <tr>\n",
       "      <th>18110</th>\n",
       "      <td>p034</td>\n",
       "      <td>Tumor</td>\n",
       "    </tr>\n",
       "    <tr>\n",
       "      <th>18111</th>\n",
       "      <td>p034</td>\n",
       "      <td>Tumor</td>\n",
       "    </tr>\n",
       "    <tr>\n",
       "      <th>18112</th>\n",
       "      <td>p034</td>\n",
       "      <td>Tumor</td>\n",
       "    </tr>\n",
       "    <tr>\n",
       "      <th>18113</th>\n",
       "      <td>p034</td>\n",
       "      <td>Tumor</td>\n",
       "    </tr>\n",
       "  </tbody>\n",
       "</table>\n",
       "<p>18114 rows × 2 columns</p>\n",
       "</div>"
      ],
      "text/plain": [
       "      patient_id cell_type_epi\n",
       "0           p018      Ciliated\n",
       "1           p018      Ciliated\n",
       "2           p018         Tumor\n",
       "3           p018           AT1\n",
       "4           p018         Tumor\n",
       "...          ...           ...\n",
       "18109       p034         Tumor\n",
       "18110       p034         Tumor\n",
       "18111       p034         Tumor\n",
       "18112       p034         Tumor\n",
       "18113       p034         Tumor\n",
       "\n",
       "[18114 rows x 2 columns]"
      ]
     },
     "execution_count": 8,
     "metadata": {},
     "output_type": "execute_result"
    }
   ],
   "source": [
    "ex_data_descriptors"
   ]
  },
  {
   "cell_type": "code",
   "execution_count": null,
   "id": "429e34e9",
   "metadata": {},
   "outputs": [],
   "source": []
  },
  {
   "cell_type": "code",
   "execution_count": 9,
   "id": "e9ac6827",
   "metadata": {},
   "outputs": [],
   "source": [
    "model = scGeneRAI.scGeneRAI()"
   ]
  },
  {
   "cell_type": "code",
   "execution_count": 19,
   "id": "0e291798",
   "metadata": {},
   "outputs": [
    {
     "name": "stderr",
     "output_type": "stream",
     "text": [
      "100%|█████████████████████████████████████████| 100/100 [04:57<00:00,  2.97s/it]"
     ]
    },
    {
     "name": "stdout",
     "output_type": "stream",
     "text": [
      "the network trained for 100 epochs (testloss: 0.13170233368873596)\n"
     ]
    },
    {
     "name": "stderr",
     "output_type": "stream",
     "text": [
      "\n"
     ]
    }
   ],
   "source": [
    "model.fit(ex_data, nepochs = 100, model_depth =2, descriptors = ex_data_descriptors, early_stopping=True, device_name = 'cpu')\n"
   ]
  },
  {
   "cell_type": "code",
   "execution_count": 20,
   "id": "ea26159a",
   "metadata": {},
   "outputs": [],
   "source": [
    "model.predict_networks(ex_data.iloc[:100,:], descriptors = ex_data_descriptors.iloc[:100,:], PATH = '.')"
   ]
  },
  {
   "cell_type": "code",
   "execution_count": 28,
   "id": "e121e14e",
   "metadata": {},
   "outputs": [
    {
     "data": {
      "text/plain": [
       "(18114, 2)"
      ]
     },
     "execution_count": 28,
     "metadata": {},
     "output_type": "execute_result"
    }
   ],
   "source": [
    "ex_data_descriptors.shape"
   ]
  },
  {
   "cell_type": "code",
   "execution_count": 29,
   "id": "33925ccd",
   "metadata": {},
   "outputs": [],
   "source": [
    "files = os.listdir('./results')"
   ]
  },
  {
   "cell_type": "code",
   "execution_count": 30,
   "id": "01cf5be0",
   "metadata": {},
   "outputs": [],
   "source": [
    "network_data = pd.concat([pd.read_csv('./results/' + file) for file in files])"
   ]
  },
  {
   "cell_type": "code",
   "execution_count": 31,
   "id": "3c790e71",
   "metadata": {},
   "outputs": [
    {
     "data": {
      "text/html": [
       "<div>\n",
       "<style scoped>\n",
       "    .dataframe tbody tr th:only-of-type {\n",
       "        vertical-align: middle;\n",
       "    }\n",
       "\n",
       "    .dataframe tbody tr th {\n",
       "        vertical-align: top;\n",
       "    }\n",
       "\n",
       "    .dataframe thead th {\n",
       "        text-align: right;\n",
       "    }\n",
       "</style>\n",
       "<table border=\"1\" class=\"dataframe\">\n",
       "  <thead>\n",
       "    <tr style=\"text-align: right;\">\n",
       "      <th></th>\n",
       "      <th>source_gene</th>\n",
       "      <th>target_gene</th>\n",
       "      <th>LRP</th>\n",
       "    </tr>\n",
       "  </thead>\n",
       "  <tbody>\n",
       "    <tr>\n",
       "      <th>0</th>\n",
       "      <td>FOS</td>\n",
       "      <td>EEF1A1</td>\n",
       "      <td>0.022456</td>\n",
       "    </tr>\n",
       "    <tr>\n",
       "      <th>1</th>\n",
       "      <td>FOSB</td>\n",
       "      <td>EEF1A1</td>\n",
       "      <td>0.019575</td>\n",
       "    </tr>\n",
       "    <tr>\n",
       "      <th>2</th>\n",
       "      <td>FOSB</td>\n",
       "      <td>FOS</td>\n",
       "      <td>0.116142</td>\n",
       "    </tr>\n",
       "    <tr>\n",
       "      <th>3</th>\n",
       "      <td>HSP90B1</td>\n",
       "      <td>EEF1A1</td>\n",
       "      <td>0.014213</td>\n",
       "    </tr>\n",
       "    <tr>\n",
       "      <th>4</th>\n",
       "      <td>HSP90B1</td>\n",
       "      <td>FOS</td>\n",
       "      <td>0.013222</td>\n",
       "    </tr>\n",
       "    <tr>\n",
       "      <th>...</th>\n",
       "      <td>...</td>\n",
       "      <td>...</td>\n",
       "      <td>...</td>\n",
       "    </tr>\n",
       "    <tr>\n",
       "      <th>61</th>\n",
       "      <td>RPS27</td>\n",
       "      <td>ID2</td>\n",
       "      <td>0.013452</td>\n",
       "    </tr>\n",
       "    <tr>\n",
       "      <th>62</th>\n",
       "      <td>RPS27</td>\n",
       "      <td>ID3</td>\n",
       "      <td>0.010791</td>\n",
       "    </tr>\n",
       "    <tr>\n",
       "      <th>63</th>\n",
       "      <td>RPS27</td>\n",
       "      <td>ID4</td>\n",
       "      <td>0.017684</td>\n",
       "    </tr>\n",
       "    <tr>\n",
       "      <th>64</th>\n",
       "      <td>RPS27</td>\n",
       "      <td>JUN</td>\n",
       "      <td>0.033826</td>\n",
       "    </tr>\n",
       "    <tr>\n",
       "      <th>65</th>\n",
       "      <td>RPS27</td>\n",
       "      <td>RPL10</td>\n",
       "      <td>0.150746</td>\n",
       "    </tr>\n",
       "  </tbody>\n",
       "</table>\n",
       "<p>66 rows × 3 columns</p>\n",
       "</div>"
      ],
      "text/plain": [
       "   source_gene target_gene       LRP\n",
       "0          FOS      EEF1A1  0.022456\n",
       "1         FOSB      EEF1A1  0.019575\n",
       "2         FOSB         FOS  0.116142\n",
       "3      HSP90B1      EEF1A1  0.014213\n",
       "4      HSP90B1         FOS  0.013222\n",
       "..         ...         ...       ...\n",
       "61       RPS27         ID2  0.013452\n",
       "62       RPS27         ID3  0.010791\n",
       "63       RPS27         ID4  0.017684\n",
       "64       RPS27         JUN  0.033826\n",
       "65       RPS27       RPL10  0.150746\n",
       "\n",
       "[66 rows x 3 columns]"
      ]
     },
     "execution_count": 31,
     "metadata": {},
     "output_type": "execute_result"
    }
   ],
   "source": [
    "network_data['LRP'] = np.abs(network_data['LRP'])\n",
    "network_data = network_data[network_data['source_gene'] != network_data['target_gene']]\n",
    "\n",
    "average_network = network_data[['LRP', 'source_gene', 'target_gene']].groupby(['source_gene', 'target_gene']).mean().reset_index()\n",
    "average_network"
   ]
  },
  {
   "cell_type": "code",
   "execution_count": 41,
   "id": "6d9fc8ae",
   "metadata": {},
   "outputs": [
    {
     "data": {
      "text/html": [
       "<div>\n",
       "<style scoped>\n",
       "    .dataframe tbody tr th:only-of-type {\n",
       "        vertical-align: middle;\n",
       "    }\n",
       "\n",
       "    .dataframe tbody tr th {\n",
       "        vertical-align: top;\n",
       "    }\n",
       "\n",
       "    .dataframe thead th {\n",
       "        text-align: right;\n",
       "    }\n",
       "</style>\n",
       "<table border=\"1\" class=\"dataframe\">\n",
       "  <thead>\n",
       "    <tr style=\"text-align: right;\">\n",
       "      <th></th>\n",
       "      <th>source_gene</th>\n",
       "      <th>target_gene</th>\n",
       "      <th>LRP</th>\n",
       "    </tr>\n",
       "  </thead>\n",
       "  <tbody>\n",
       "    <tr>\n",
       "      <th>65</th>\n",
       "      <td>RPS27</td>\n",
       "      <td>RPL10</td>\n",
       "      <td>0.150746</td>\n",
       "    </tr>\n",
       "    <tr>\n",
       "      <th>45</th>\n",
       "      <td>RPL10</td>\n",
       "      <td>EEF1A1</td>\n",
       "      <td>0.119823</td>\n",
       "    </tr>\n",
       "    <tr>\n",
       "      <th>2</th>\n",
       "      <td>FOSB</td>\n",
       "      <td>FOS</td>\n",
       "      <td>0.116142</td>\n",
       "    </tr>\n",
       "    <tr>\n",
       "      <th>37</th>\n",
       "      <td>JUN</td>\n",
       "      <td>FOS</td>\n",
       "      <td>0.105641</td>\n",
       "    </tr>\n",
       "    <tr>\n",
       "      <th>38</th>\n",
       "      <td>JUN</td>\n",
       "      <td>FOSB</td>\n",
       "      <td>0.098776</td>\n",
       "    </tr>\n",
       "    <tr>\n",
       "      <th>55</th>\n",
       "      <td>RPS27</td>\n",
       "      <td>EEF1A1</td>\n",
       "      <td>0.078544</td>\n",
       "    </tr>\n",
       "    <tr>\n",
       "      <th>9</th>\n",
       "      <td>HSPA5</td>\n",
       "      <td>HSP90B1</td>\n",
       "      <td>0.047921</td>\n",
       "    </tr>\n",
       "    <tr>\n",
       "      <th>47</th>\n",
       "      <td>RPL10</td>\n",
       "      <td>FOSB</td>\n",
       "      <td>0.034336</td>\n",
       "    </tr>\n",
       "    <tr>\n",
       "      <th>26</th>\n",
       "      <td>ID3</td>\n",
       "      <td>ID1</td>\n",
       "      <td>0.034326</td>\n",
       "    </tr>\n",
       "    <tr>\n",
       "      <th>41</th>\n",
       "      <td>JUN</td>\n",
       "      <td>ID1</td>\n",
       "      <td>0.034263</td>\n",
       "    </tr>\n",
       "  </tbody>\n",
       "</table>\n",
       "</div>"
      ],
      "text/plain": [
       "   source_gene target_gene       LRP\n",
       "65       RPS27       RPL10  0.150746\n",
       "45       RPL10      EEF1A1  0.119823\n",
       "2         FOSB         FOS  0.116142\n",
       "37         JUN         FOS  0.105641\n",
       "38         JUN        FOSB  0.098776\n",
       "55       RPS27      EEF1A1  0.078544\n",
       "9        HSPA5     HSP90B1  0.047921\n",
       "47       RPL10        FOSB  0.034336\n",
       "26         ID3         ID1  0.034326\n",
       "41         JUN         ID1  0.034263"
      ]
     },
     "execution_count": 41,
     "metadata": {},
     "output_type": "execute_result"
    }
   ],
   "source": [
    "edges = average_network.sort_values(by='LRP', ascending=False).iloc[:10,:]\n",
    "edges"
   ]
  },
  {
   "cell_type": "code",
   "execution_count": 42,
   "id": "8d905dea",
   "metadata": {},
   "outputs": [],
   "source": [
    "network = nx.from_pandas_edgelist(edges, source='source_gene', target='target_gene', edge_attr='LRP')"
   ]
  },
  {
   "cell_type": "code",
   "execution_count": 44,
   "id": "efab183d",
   "metadata": {},
   "outputs": [
    {
     "data": {
      "image/png": "[encoded data removed]",
      "text/plain": [
       "<Figure size 432x288 with 1 Axes>"
      ]
     },
     "metadata": {},
     "output_type": "display_data"
    }
   ],
   "source": [
    "nx.draw(network, with_labels=True, node_color='white', width = edges['LRP']*10)"
   ]
  }
 ],
 "metadata": {
  "kernelspec": {
   "display_name": "Python 3",
   "language": "python",
   "name": "python3"
  },
  "language_info": {
   "codemirror_mode": {
    "name": "ipython",
    "version": 3
   },
   "file_extension": ".py",
   "mimetype": "text/x-python",
   "name": "python",
   "nbconvert_exporter": "python",
   "pygments_lexer": "ipython3",
   "version": "3.9.7"
  }
 },
 "nbformat": 4,
 "nbformat_minor": 5
}
